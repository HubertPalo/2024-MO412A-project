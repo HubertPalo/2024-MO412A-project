{
 "cells": [
  {
   "cell_type": "code",
   "execution_count": 21,
   "metadata": {},
   "outputs": [],
   "source": [
    "import pandas as pd"
   ]
  },
  {
   "cell_type": "code",
   "execution_count": 22,
   "metadata": {},
   "outputs": [],
   "source": [
    "data = pd.read_csv('votos_updated.csv')\n",
    "# data.groupby('file').count().to_csv('votos_count.csv')"
   ]
  },
  {
   "cell_type": "code",
   "execution_count": 28,
   "metadata": {},
   "outputs": [
    {
     "data": {
      "text/plain": [
       "array(['Mailza Gomes', 'Marcio Bittar', 'Sérgio Petecão',\n",
       "       'Fernando Collor', 'Renan Calheiros', 'Rodrigo Cunha',\n",
       "       'Eduardo Braga', 'Omar Aziz', 'Plínio Valério', 'Davi Alcolumbre',\n",
       "       'Paulo Albuquerque', 'Randolfe Rodrigues', 'Angelo Coronel',\n",
       "       'Jaques Wagner', 'Otto Alencar', 'Cid Gomes', 'Eduardo Girão',\n",
       "       'Tasso Jereissati', 'Izalci Lucas', 'Leila Barros', 'Reguffe',\n",
       "       'Fabiano Contarato', 'Marcos do Val', 'Rose de Freitas',\n",
       "       'Jorge Kajuru', 'Luiz Carlos do Carmo', 'Vanderlan Cardoso',\n",
       "       'Eliziane Gama', 'Roberto Rocha', 'Weverton', 'Antonio Anastasia',\n",
       "       'Carlos Viana', 'Rodrigo Pacheco', 'Nelsinho Trad', 'Simone Tebet',\n",
       "       'Soraya Thronicke', 'Jayme Campos', 'Juíza Selma',\n",
       "       'Wellington Fagundes', 'Jader Barbalho', 'Paulo Rocha',\n",
       "       'Zequinha Marinho', 'Daniella Ribeiro', 'José Maranhão',\n",
       "       'Veneziano Vital do Rêgo', 'Fernando Bezerra Coelho',\n",
       "       'Humberto Costa', 'Jarbas Vasconcelos', 'Ciro Nogueira',\n",
       "       'Elmano Férrer', 'Marcelo Castro', 'Alvaro Dias', 'Flávio Arns',\n",
       "       'Oriovisto Guimarães', 'Arolde de Oliveira', 'Flávio Bolsonaro',\n",
       "       'Romário', 'Paul Prates', 'Styvenson Valentim', 'Zenaide Maia',\n",
       "       'Acir Gurgacz', 'Confúcio Moura', 'Marcos Rogério',\n",
       "       'Chico Rodrigues', 'Mecias de Jesus', 'Telmário Mota',\n",
       "       'Lasier Martins', 'Luis Carlos Heinze', 'Paulo Paim',\n",
       "       'Dário Berger', 'Esperidião Amin', 'Jorginho Mello',\n",
       "       'Alessandro Vieira', 'Maria do Carmo Alves', 'Rogério Carvalho',\n",
       "       'José Serra', 'Major Olimpio', 'Mara Gabrilli', 'Eduardo Gomes',\n",
       "       'Irajá', 'Kátia Abreu', 'Carlos Fávaro', 'Lucas Barreto',\n",
       "       'Chiquinho Feitosa', 'Nilda Gondim', 'Eliane Nogueira',\n",
       "       'Carlos Portinho', 'Maria Eliza', 'Giordano', 'José Aníbal',\n",
       "       'Eduardo Velloso', 'Eudócia', 'Alexandre Silveira', 'Fabio Garcia',\n",
       "       'Rafael Tenório', 'Margareth Buzetti', 'Alan Rick',\n",
       "       'Fernando Farias', 'Augusta Brito', 'Damares Alves', 'Magno Malta',\n",
       "       'Wilder Morais', 'Ana Paula Lobato', 'Cleitinho',\n",
       "       'Tereza Cristina', 'Beto Faro', 'Efraim Filho', 'Fernando Dueire',\n",
       "       'Teresa Leitão', 'Jussara Lima', 'Sergio Moro', 'Rogerio Marinho',\n",
       "       'Samuel Araújo', 'Jaime Bagattoli', 'Hiran', 'Hamilton Mourão',\n",
       "       'Ivete da Silveira', 'Jorge Seif', 'Laércio Oliveira',\n",
       "       'Astronauta Marcos Pontes', 'Professora Dorinha Seabra',\n",
       "       'Bene Camacho', 'Castellar Neto', 'Rosana Martinelli',\n",
       "       'André Amaral', 'Flavio Azevedo', 'Beto Martins', 'Julio Ventura',\n",
       "       'Janaína Farias', 'Ireneu Orth', 'Flávio Dino',\n",
       "       'Mauro Carvalho Junior'], dtype=object)"
      ]
     },
     "execution_count": 28,
     "metadata": {},
     "output_type": "execute_result"
    }
   ],
   "source": [
    "data['SENADOR'].unique() #, data['SENADOR'].nunique()"
   ]
  },
  {
   "cell_type": "code",
   "execution_count": 24,
   "metadata": {},
   "outputs": [
    {
     "data": {
      "text/plain": [
       "'asdad'"
      ]
     },
     "execution_count": 24,
     "metadata": {},
     "output_type": "execute_result"
    }
   ],
   "source": [
    "sample = 'asdad  '\n",
    "# Remove leading and trailing whitespaces\n",
    "sample = sample.strip()\n",
    "sample"
   ]
  }
 ],
 "metadata": {
  "kernelspec": {
   "display_name": "Python 3",
   "language": "python",
   "name": "python3"
  },
  "language_info": {
   "codemirror_mode": {
    "name": "ipython",
    "version": 3
   },
   "file_extension": ".py",
   "mimetype": "text/x-python",
   "name": "python",
   "nbconvert_exporter": "python",
   "pygments_lexer": "ipython3",
   "version": "3.11.9"
  }
 },
 "nbformat": 4,
 "nbformat_minor": 2
}
