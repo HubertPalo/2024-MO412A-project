{
 "cells": [
  {
   "cell_type": "markdown",
   "metadata": {},
   "source": [
    "# MO412A - Project"
   ]
  },
  {
   "cell_type": "code",
   "execution_count": 3,
   "metadata": {},
   "outputs": [],
   "source": [
    "import requests\n",
    "from bs4 import BeautifulSoup\n",
    "import datetime\n",
    "import pandas as pd\n",
    "from tqdm import tqdm\n",
    "import os\n",
    "from pypdf import PdfReader"
   ]
  },
  {
   "cell_type": "code",
   "execution_count": null,
   "metadata": {},
   "outputs": [],
   "source": [
    "def extract_table_from_page(page_content):\n",
    "    "
   ]
  },
  {
   "cell_type": "code",
   "execution_count": 74,
   "metadata": {},
   "outputs": [],
   "source": [
    "import re\n",
    "import pandas as pd\n",
    "\n",
    "def process_page(texto):\n",
    "    # Expresión regular para extraer filas de la tabla\n",
    "    regex_filas = r\"([\\w\\sçãéíóúáâêôÇÕÉÍÁ]+)\\s+([A-Z]{2})\\s+([\\w/]+)\\s+(.+)\"\n",
    "    # Matchea: Nombre del senador, Estado (UF), Partido, Voto\n",
    "\n",
    "    # Buscar todas las coincidencias\n",
    "    rows = []\n",
    "    for split in texto.split(\"\\n\"):\n",
    "        if len(split.strip()) == 0:\n",
    "            continue\n",
    "        coincidencias = re.findall(regex_filas, split)\n",
    "        if len(coincidencias) > 0:\n",
    "            rows.append(list(coincidencias[0]))\n",
    "    # print(rows)\n",
    "\n",
    "    # Crear un DataFrame\n",
    "    columnas = [\"SENADOR\", \"UF\", \"PARTIDO\", \"VOTO\"]\n",
    "    df_votaciones = pd.DataFrame(rows, columns=columnas)\n",
    "    return df_votaciones\n",
    "    # Mostrar los primeros registros\n",
    "    # print(df_votaciones.head())\n",
    "\n",
    "    # Guardar en CSV si es necesario\n",
    "    # df_votaciones.to_csv(\"votaciones_senado.csv\", index=False)\n"
   ]
  },
  {
   "cell_type": "code",
   "execution_count": 75,
   "metadata": {},
   "outputs": [],
   "source": [
    "votos = pd.DataFrame()\n",
    "for file in os.listdir('files'):\n",
    "    filename = 'files/' + file\n",
    "    reader = PdfReader(filename)\n",
    "    for page in reader.pages:\n",
    "        content = page.extract_text(extraction_mode=\"layout\", layout_mode_space_vertically=False)\n",
    "        # print(content)\n",
    "        df = process_page(content)\n",
    "        df['file'] = file\n",
    "        votos = pd.concat([votos, df])\n",
    "\n",
    "        # print(df)\n",
    "        # try:\n",
    "        #     # start_index = content.index('SENADOR UF PARTIDO VOTO')\n",
    "        #     # end_index = content.index('Legenda:')\n",
    "        #     # table = content[start_index:]\n",
    "        #     # print(content)\n",
    "        #     content_splits = content.split('\\n')\n",
    "        #     start_index = None\n",
    "        #     end_index = None\n",
    "        #     for row_index, row_content in enumerate(content_splits):\n",
    "        #         if 'SENADOR' in row_content:\n",
    "        #             start_index = row_index\n",
    "        #         row_content.replace('      ', ';')\n",
    "        #         print(len(row_content.split(';')), row_content)\n",
    "        #         if start_index and len(row_content.split(';')) > 1:\n",
    "        #             end_index = row_index\n",
    "        #             break\n",
    "        #     if start_index and end_index:\n",
    "        #         table = content_splits[start_index:end_index]\n",
    "        #         print(table)\n",
    "        # except:\n",
    "        #     continue\n",
    "    # break\n",
    "    "
   ]
  },
  {
   "cell_type": "code",
   "execution_count": null,
   "metadata": {},
   "outputs": [],
   "source": []
  },
  {
   "cell_type": "code",
   "execution_count": 73,
   "metadata": {},
   "outputs": [],
   "source": [
    "votos = votos[votos['UF'] != 'UF']\n",
    "votos.to_csv('votos_updated.csv')"
   ]
  }
 ],
 "metadata": {
  "kernelspec": {
   "display_name": "Python 3",
   "language": "python",
   "name": "python3"
  },
  "language_info": {
   "codemirror_mode": {
    "name": "ipython",
    "version": 3
   },
   "file_extension": ".py",
   "mimetype": "text/x-python",
   "name": "python",
   "nbconvert_exporter": "python",
   "pygments_lexer": "ipython3",
   "version": "3.11.9"
  }
 },
 "nbformat": 4,
 "nbformat_minor": 2
}
