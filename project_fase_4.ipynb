{
 "cells": [
  {
   "cell_type": "markdown",
   "metadata": {},
   "source": [
    "# MO412A - Project"
   ]
  },
  {
   "cell_type": "code",
   "execution_count": 11,
   "metadata": {},
   "outputs": [],
   "source": [
    "import requests\n",
    "from bs4 import BeautifulSoup\n",
    "import datetime\n",
    "import pandas as pd\n",
    "from tqdm import tqdm\n",
    "import os\n",
    "from pypdf import PdfReader"
   ]
  },
  {
   "cell_type": "code",
   "execution_count": 12,
   "metadata": {},
   "outputs": [],
   "source": [
    "def check_string_content(str_input: str):\n",
    "    banned_starts = [\n",
    "        \"Ementa:\",\n",
    "        \"§ 2º do art\",\n",
    "        \"1.166, de 2020\",\n",
    "        \"3.626/2023.\",\n",
    "        \"(art. 51\"\n",
    "    ]\n",
    "    return str_input.startswith(tuple(banned_starts))"
   ]
  },
  {
   "cell_type": "code",
   "execution_count": 13,
   "metadata": {},
   "outputs": [],
   "source": [
    "import re\n",
    "import pandas as pd\n",
    "\n",
    "def process_page(texto):\n",
    "    # Expresión regular para extraer filas de la tabla\n",
    "    regex_filas = r\"([\\w\\sçãéíóúáâêôÇÕÉÍÁ]+)\\s+([A-Z]{2})\\s+([\\w/]+)\\s+(.+)\"\n",
    "    # Matchea: Nombre del senador, Estado (UF), Partido, Voto\n",
    "\n",
    "    # Buscar todas las coincidencias\n",
    "    rows = []\n",
    "    for split in texto.split(\"\\n\"):\n",
    "        if len(split.strip()) == 0:\n",
    "            continue\n",
    "        coincidencias = re.findall(regex_filas, split)\n",
    "        if len(coincidencias) > 0:\n",
    "            # print(coincidencias[0][3])\n",
    "            if check_string_content(coincidencias[0][3]):\n",
    "                continue\n",
    "            row_content = list(coincidencias[0])\n",
    "            row_content[0] = row_content[0].strip()\n",
    "            rows.append(row_content)\n",
    "            # print(rows)\n",
    "            # assert False\n",
    "    # print(rows)\n",
    "\n",
    "    # Crear un DataFrame\n",
    "    columnas = [\"SENADOR\", \"UF\", \"PARTIDO\", \"VOTO\"]\n",
    "    df_votaciones = pd.DataFrame(rows, columns=columnas)\n",
    "    return df_votaciones\n"
   ]
  },
  {
   "cell_type": "code",
   "execution_count": 14,
   "metadata": {},
   "outputs": [],
   "source": [
    "votos = pd.DataFrame()\n",
    "for file in os.listdir('files'):\n",
    "    filename = 'files/' + file\n",
    "    reader = PdfReader(filename)\n",
    "    for page in reader.pages:\n",
    "        content = page.extract_text(extraction_mode=\"layout\", layout_mode_space_vertically=False)\n",
    "        df = process_page(content)\n",
    "        df['file'] = file\n",
    "        votos = pd.concat([votos, df])\n",
    "    "
   ]
  },
  {
   "cell_type": "code",
   "execution_count": 15,
   "metadata": {},
   "outputs": [],
   "source": [
    "votos = votos[votos['UF'] != 'UF']\n",
    "votos.to_csv('votos_updated.csv')"
   ]
  }
 ],
 "metadata": {
  "kernelspec": {
   "display_name": "Python 3",
   "language": "python",
   "name": "python3"
  },
  "language_info": {
   "codemirror_mode": {
    "name": "ipython",
    "version": 3
   },
   "file_extension": ".py",
   "mimetype": "text/x-python",
   "name": "python",
   "nbconvert_exporter": "python",
   "pygments_lexer": "ipython3",
   "version": "3.11.9"
  }
 },
 "nbformat": 4,
 "nbformat_minor": 2
}
