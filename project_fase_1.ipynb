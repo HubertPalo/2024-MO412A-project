{
 "cells": [
  {
   "cell_type": "markdown",
   "metadata": {},
   "source": [
    "# MO412A - Project"
   ]
  },
  {
   "cell_type": "code",
   "execution_count": 8,
   "metadata": {},
   "outputs": [],
   "source": [
    "import requests\n",
    "from bs4 import BeautifulSoup\n",
    "import datetime\n",
    "import pandas as pd\n",
    "from tqdm import tqdm"
   ]
  },
  {
   "cell_type": "code",
   "execution_count": 9,
   "metadata": {},
   "outputs": [],
   "source": [
    "# Get all the links\n",
    "\n",
    "link_parts = [\n",
    "    'https://www25.senado.leg.br/web/atividade/materias?p_p_id=materia_WAR_atividadeportlet',\n",
    "    'p_p_lifecycle=0',\n",
    "    '_materia_WAR_atividadeportlet_pesquisaAvancada=true',\n",
    "    '_materia_WAR_atividadeportlet_ano=',\n",
    "    '_materia_WAR_atividadeportlet_tipoAutor=SENADOR',\n",
    "    '_materia_WAR_atividadeportlet_dataApresentacaoInicial={}',\n",
    "    '_materia_WAR_atividadeportlet_numero=',\n",
    "    '_materia_WAR_atividadeportlet_situacaoTramitacao=TRAMITACAO_ENCERRADA',\n",
    "    '_materia_WAR_atividadeportlet_dataApresentacaoFinal={}',\n",
    "    '_materia_WAR_atividadeportlet_anoNorma=',\n",
    "    '_materia_WAR_atividadeportlet_codigoClasseTematica=',\n",
    "    '_materia_WAR_atividadeportlet_palavraChave=',\n",
    "    '_materia_WAR_atividadeportlet_tipoNorma=',\n",
    "    '_materia_WAR_atividadeportlet_codigoParlamentar=',\n",
    "    '_materia_WAR_atividadeportlet_numeroNorma=',\n",
    "    '_materia_WAR_atividadeportlet_nomeRelator=',\n",
    "    '_materia_WAR_atividadeportlet_btnSubmit=',\n",
    "    '_materia_WAR_atividadeportlet_nomeAutor=',\n",
    "    '_materia_WAR_atividadeportlet_codigoTipoConteudo=',\n",
    "    '_materia_WAR_atividadeportlet_siglasTipos=DESTPEC%2CDESTPLORD',\n",
    "    '_materia_WAR_atividadeportlet_p={}'\n",
    "]\n",
    "\n",
    "link = '&'.join(link_parts)"
   ]
  },
  {
   "cell_type": "code",
   "execution_count": 10,
   "metadata": {},
   "outputs": [],
   "source": [
    "def get_data(link: str, start_date: datetime.date, end_date: datetime.date, page: int):\n",
    "    formatted_link = link.format(start_date.strftime('%d%%2F%m%%2F%Y'), end_date.strftime('%d%%2F%m%%2F%Y'), page)\n",
    "    response = requests.get(formatted_link)\n",
    "    soup = BeautifulSoup(response.text, 'html.parser')\n",
    "    return soup"
   ]
  },
  {
   "cell_type": "code",
   "execution_count": 11,
   "metadata": {},
   "outputs": [],
   "source": [
    "start_date = datetime.date(2020, 1, 1)\n",
    "end_date = datetime.date(2024, 5, 1)\n",
    "page=1 # Start at page 1\n",
    "\n",
    "document_links = {}\n",
    "while True:\n",
    "    soup = get_data(link, start_date, end_date, page)\n",
    "    result = soup.find('div', class_='sf-proposicoes-resultado div-zebra')\n",
    "    if result is None:\n",
    "        break\n",
    "    for div in result.children:\n",
    "        pl_link = div.find('a')\n",
    "        if pl_link != -1:\n",
    "            document_links[pl_link.text] = pl_link['href']\n",
    "    page += 1"
   ]
  },
  {
   "cell_type": "code",
   "execution_count": 12,
   "metadata": {},
   "outputs": [],
   "source": [
    "df = pd.DataFrame(document_links, index=[0]).T.reset_index()\n",
    "df.columns = ['document', 'link']\n",
    "df.to_csv(f'document_links_from_{start_date}_to_{end_date}.csv', index=False)"
   ]
  }
 ],
 "metadata": {
  "kernelspec": {
   "display_name": "Python 3",
   "language": "python",
   "name": "python3"
  },
  "language_info": {
   "codemirror_mode": {
    "name": "ipython",
    "version": 3
   },
   "file_extension": ".py",
   "mimetype": "text/x-python",
   "name": "python",
   "nbconvert_exporter": "python",
   "pygments_lexer": "ipython3",
   "version": "3.11.9"
  }
 },
 "nbformat": 4,
 "nbformat_minor": 2
}
